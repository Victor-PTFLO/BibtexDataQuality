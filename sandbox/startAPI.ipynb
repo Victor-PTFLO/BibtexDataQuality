{
 "cells": [
  {
   "cell_type": "code",
   "execution_count": 1,
   "metadata": {},
   "outputs": [],
   "source": [
    "# %pip install flask\n",
    "# !python -m venv ./venv/\n",
    "# !.\\\\venv\\\\Scripts\\\\activate.bat\n",
    "# !pip install werkzeug"
   ]
  },
  {
   "cell_type": "code",
   "execution_count": 2,
   "metadata": {},
   "outputs": [],
   "source": [
    "import werkzeug\n",
    "import pandas as pd\n",
    "import json\n",
    "import yaml\n",
    "import numpy as np\n",
    "from sqlalchemy import create_engine, and_, select, engine\n",
    "from flask import jsonify, Flask, render_template, request, json, Response"
   ]
  },
  {
   "cell_type": "code",
   "execution_count": 3,
   "metadata": {},
   "outputs": [],
   "source": [
    "def type_output_file(o_data, f_type):\n",
    "    \n",
    "    out = pd.DataFrame([],[])\n",
    "\n",
    "    if f_type == 'yaml':\n",
    "        out = yaml.dump(o_data.to_dict(orient='records'))\n",
    "\n",
    "    if f_type == 'json':\n",
    "        out = o_data.to_json(orient=\"records\")\n",
    "\n",
    "    if f_type == 'csv':\n",
    "        out = o_data.to_csv(sep='§')\n",
    "\n",
    "    return Response(out, mimetype = f_type, headers={\"Content-disposition\":\"attachment; filename=filename.\" + f_type + \"\"})\n",
    "    "
   ]
  },
  {
   "cell_type": "code",
   "execution_count": 4,
   "metadata": {},
   "outputs": [],
   "source": [
    "app = Flask(__name__)\n",
    "# app.config['DEBUG'] = True\n",
    "path = \"C:\\\\Users\\\\victo\\\\PycharmProjects\\\\BibtexDataQuality\\\\output\\\\output.json\"\n",
    "\n",
    "@app.route('/')\n",
    "def index():\n",
    "    return '<h1>Tela inicial</h1><p>Este site é um protótipo de API para pesquisa de artigos cientificos.</p>'\n",
    "\n",
    "#endpoint para filtragem na pesquisa por coluna\n",
    "@app.route('/query', methods=['GET']) \n",
    "@app.route('/query/<output_format>/', methods=['GET'])\n",
    "def query(output_format = 'json'):\n",
    "    \n",
    "    #abre conexao com o banco\n",
    "    engine = create_engine('sqlite:///Bd_Publications.db', echo=False)\n",
    "    filter_arg = request.args.to_dict()\n",
    "    \n",
    "    #trata as chaves e valores inseridos pelo usuario e retorna uma string sql\n",
    "    filter_fact = ''\n",
    "    for col, value in filter_arg.items():\n",
    "        lp_count = len(filter_arg)-1\n",
    "        for p in range(lp_count):\n",
    "            filter_fact = filter_fact + col + \" = '\" + value + \"'\"\n",
    "            filter_fact = filter_fact + \" and \"\n",
    "        query_filter = filter_fact[:-4]\n",
    "    \n",
    "    query = \"SELECT * FROM tb_Publications where \" + query_filter + \";\"\n",
    "    \n",
    "    #executa a busca e retorna o output no formato solicitado\n",
    "    df_table = pd.read_sql_query(query, engine)\n",
    "    return type_output_file(df_table, output_format)\n",
    "\n",
    "#endpoint para string de busca\n",
    "@app.route('/search/<search_string>/', methods=['GET'])\n",
    "@app.route('/search/<search_string>/<output_format>', methods=['GET'])\n",
    "def search(search_string, output_format = 'json'):\n",
    "    \n",
    "    #abre conexao com o banco\n",
    "    engine = create_engine('sqlite:///Bd_Publications.db', echo=False)\n",
    "    query = \"SELECT * FROM tb_Publications;\"\n",
    "    df_table = pd.read_sql_query(query, engine)\n",
    "\n",
    "    df_table = df_table[df_table.apply(lambda x: x.astype(str).str.contains(search_string, case=False).any(), axis=1)]\n",
    "    return type_output_file(df_table, output_format)"
   ]
  },
  {
   "cell_type": "code",
   "execution_count": 5,
   "metadata": {},
   "outputs": [
    {
     "name": "stdout",
     "output_type": "stream",
     "text": [
      " * Serving Flask app '__main__'\n",
      " * Debug mode: on\n"
     ]
    },
    {
     "name": "stderr",
     "output_type": "stream",
     "text": [
      "WARNING: This is a development server. Do not use it in a production deployment. Use a production WSGI server instead.\n",
      " * Running on all addresses (0.0.0.0)\n",
      " * Running on http://127.0.0.1:5000\n",
      " * Running on http://192.168.0.133:5000\n",
      "Press CTRL+C to quit\n",
      "127.0.0.1 - - [07/Dec/2022 19:20:14] \"GET / HTTP/1.1\" 200 -\n",
      "127.0.0.1 - - [07/Dec/2022 19:20:14] \"GET /favicon.ico HTTP/1.1\" 404 -\n",
      "127.0.0.1 - - [07/Dec/2022 19:20:40] \"GET /query/yaml?publication_year=2016&publisher=IEEE HTTP/1.1\" 308 -\n",
      "127.0.0.1 - - [07/Dec/2022 19:20:40] \"GET /query/yaml/?publication_year=2016&publisher=IEEE HTTP/1.1\" 200 -\n",
      "127.0.0.1 - - [07/Dec/2022 19:21:18] \"GET /search/2016/yaml HTTP/1.1\" 200 -\n",
      "127.0.0.1 - - [07/Dec/2022 19:24:42] \"GET /search/2016 HTTP/1.1\" 308 -\n",
      "127.0.0.1 - - [07/Dec/2022 19:24:42] \"GET /search/2016/ HTTP/1.1\" 200 -\n",
      "127.0.0.1 - - [07/Dec/2022 19:24:56] \"GET / HTTP/1.1\" 200 -\n",
      "127.0.0.1 - - [07/Dec/2022 19:52:55] \"GET /query/yaml/?publication_year=2016&publisher=IEEE HTTP/1.1\" 200 -\n",
      "127.0.0.1 - - [07/Dec/2022 20:32:14] \"GET /query/yaml/?publication_year=2016&publisher=IEEE HTTP/1.1\" 200 -\n",
      "127.0.0.1 - - [07/Dec/2022 20:32:37] \"GET /search/2016/csv HTTP/1.1\" 200 -\n"
     ]
    }
   ],
   "source": [
    "if __name__ == \"__main__\":\n",
    "    app.run(host=\"0.0.0.0\", port=5000, debug=True, use_reloader=False, )"
   ]
  }
 ],
 "metadata": {
  "kernelspec": {
   "display_name": "Python 3.10.7 64-bit",
   "language": "python",
   "name": "python3"
  },
  "language_info": {
   "codemirror_mode": {
    "name": "ipython",
    "version": 3
   },
   "file_extension": ".py",
   "mimetype": "text/x-python",
   "name": "python",
   "nbconvert_exporter": "python",
   "pygments_lexer": "ipython3",
   "version": "3.10.7 (tags/v3.10.7:6cc6b13, Sep  5 2022, 14:08:36) [MSC v.1933 64 bit (AMD64)]"
  },
  "orig_nbformat": 4,
  "vscode": {
   "interpreter": {
    "hash": "253cd15c32ffb283b0558be93b097dc27093fe6b891853f454fa08d2f15e4a97"
   }
  }
 },
 "nbformat": 4,
 "nbformat_minor": 2
}
